{
 "cells": [
  {
   "cell_type": "markdown",
   "id": "97a7429f",
   "metadata": {},
   "source": [
    "a) Write a code taking as input a matrix A of size m× n and a vector b\n",
    "of size m×1, where m and n are arbitrarily large numbers and m < n,\n",
    "constructing the augmented matrix and performing\n",
    " REF, and\n",
    " RREF\n",
    "without using any built-in functions. In case you encounter any division\n",
    "by 0, you can choose a different A and/or b.\n",
    "Deliverables: The code snippet showing the procedure for REF and\n",
    "RREF. (1 mark + 1 mark)"
   ]
  },
  {
   "cell_type": "code",
   "execution_count": 200,
   "id": "134193f1",
   "metadata": {},
   "outputs": [
    {
     "name": "stdout",
     "output_type": "stream",
     "text": [
      "Enter value of m and n for creating m X n matrix : NOTE m < n\n"
     ]
    }
   ],
   "source": [
    "import numpy as np\n",
    "import random\n",
    "import copy\n",
    "print(\"Enter value of m and n for creating m X n matrix : NOTE m < n\")\n",
    "#m=int(input(\"m\"))\n",
    "#n=int(input(\"n\"))\n",
    "\n",
    "m=3\n",
    "n=5\n",
    "\n",
    "#A = np.random.randint(10, size=(m,n)) \n",
    "#b = np.random.randint(10, size=(m))\n",
    "\n",
    "#print(A,'\\n',b)"
   ]
  },
  {
   "cell_type": "code",
   "execution_count": 455,
   "id": "0771c444",
   "metadata": {},
   "outputs": [
    {
     "name": "stdout",
     "output_type": "stream",
     "text": [
      "[[3, 3, 2, 2, 0, 1, 1], [0, 0, 5, 1, 5, 4, 3], [4, 4, 5, 4, 1, 2, 0], [1, 3, 0, 2, 3, 5, 3], [0, 1, 4, 0, 4, 5, 2]] \n",
      " [5, 3, 5, 5, 1]\n"
     ]
    }
   ],
   "source": [
    "#Define Matrix A:\n",
    "m=5\n",
    "n=7\n",
    "A=[]\n",
    "for i in range(m):\n",
    "    MatrixRow=[]\n",
    "    for j in range(n):\n",
    "       #print(type(j),i,j,type(i))\n",
    "       MatrixRow.append(random.randint(0,5))\n",
    "    A.append(MatrixRow)\n",
    "    \n",
    "A\n",
    "\n",
    "b=[]\n",
    "for i in range(m):\n",
    "    b.append(random.randint(0,5))\n",
    "    \n",
    "print(A,'\\n',b)"
   ]
  },
  {
   "cell_type": "code",
   "execution_count": 340,
   "id": "c1c635d2",
   "metadata": {},
   "outputs": [
    {
     "data": {
      "text/plain": [
       "[[2, 4, 6, -3, 4, 8], [4, 8, -3, -3, -2, 1], [0, 0, 2, -7, -6, 4]]"
      ]
     },
     "execution_count": 340,
     "metadata": {},
     "output_type": "execute_result"
    }
   ],
   "source": [
    "AugMatrix=copy.deepcopy(A)\n",
    "indexOfb=0\n",
    "i=None\n",
    "for i in AugMatrix:\n",
    "    #print(i)\n",
    "    i.append(b[indexOfb])\n",
    "    indexOfb+=1\n",
    "    #AugMatrix.append(i)\n",
    "AugMatrix"
   ]
  },
  {
   "cell_type": "code",
   "execution_count": 339,
   "id": "7649579b",
   "metadata": {},
   "outputs": [
    {
     "name": "stdout",
     "output_type": "stream",
     "text": [
      "3 6\n"
     ]
    }
   ],
   "source": [
    "rowSize=len(AugMatrix)\n",
    "colSize=len(AugMatrix[0])\n",
    "print(rowSize,colSize)\n",
    "\n",
    "\n",
    "\n",
    "A=[[2, 4, 6, -3, 4], [4, 8, -3, -3, -2], [0, 0, 2, -7, -6]]\n",
    "b=[8, 1, 4]"
   ]
  },
  {
   "cell_type": "code",
   "execution_count": 341,
   "id": "e1925eb9",
   "metadata": {},
   "outputs": [
    {
     "name": "stdout",
     "output_type": "stream",
     "text": [
      "row_col_size 3 6\n",
      "\n",
      "\n",
      "i,position 0 0\n",
      "mulFactor 0 1 0 4 2\n",
      "[[2, 4, 6, -3, 4, 8], [4, 8, -3, -3, -2, 1], [0, 0, 2, -7, -6, 4]] 0 1 2.0\n",
      "mulFactor 0 2 0 0 2\n",
      "[[2, 4, 6, -3, 4, 8], [0.0, 0.0, -15.0, 3.0, -10.0, -15.0], [0, 0, 2, -7, -6, 4]] 0 2 0.0\n",
      "i+1,rowSize 1 3\n",
      "\n",
      "\n",
      "i,position 1 1\n",
      "matrix [[0.0, 0.0, -15.0, 3.0, -10.0, -15.0], [0.0, 0.0, 2.0, -7.0, -6.0, 4.0]]\n",
      "i,nonZeroPos 1 -1\n",
      "i+1,rowSize 2 3\n",
      "\n",
      "\n",
      "i,position 2 2\n",
      "mulFactor 1 2 2 2.0 -15.0\n",
      "[[2, 4, 6, -3, 4, 8], [0.0, 0.0, -15.0, 3.0, -10.0, -15.0], [0.0, 0.0, 2.0, -7.0, -6.0, 4.0]] 1 2 -0.13333333333333333\n",
      "i+1,rowSize 2 3\n",
      "i+1,rowSize 2 3\n",
      "i+1,rowSize 2 3\n",
      "i+1,rowSize 2 3\n",
      "[0, 2] [1]\n"
     ]
    },
    {
     "data": {
      "text/plain": [
       "[[2, 4, 6, -3, 4, 8],\n",
       " [0.0, 0.0, -15.0, 3.0, -10.0, -15.0],\n",
       " [0.0, 0.0, 0.0, -6.6, -7.333333333333333, 2.0]]"
      ]
     },
     "execution_count": 341,
     "metadata": {},
     "output_type": "execute_result"
    }
   ],
   "source": [
    "def swapRow(matrix,i,j):\n",
    "    matrix[i],matrix[j]=matrix[j],matrix[i]\n",
    "    return matrix\n",
    "\n",
    "\n",
    "def checkNonZeroElement(matrix,position):\n",
    "    print('matrix',matrix)\n",
    "    nonZeroPos=0\n",
    "    for i in matrix:\n",
    "        if i[position] != 0:\n",
    "            return nonZeroPos\n",
    "        nonZeroPos+=1\n",
    "    return -1\n",
    "\n",
    "\n",
    "def rowOperation(matrix,indexOfR1,indexOfR2,mulFactor):\n",
    "    newR1=[k*mulFactor for k in matrix[indexOfR1]]\n",
    "    matrix[indexOfR2]=[x-y for x,y in zip(matrix[indexOfR2],newR1)]\n",
    "    return matrix\n",
    "    \n",
    "\n",
    "\n",
    "def ref(AugMatrix):\n",
    "    rowSize=len(AugMatrix)\n",
    "    colSize=len(AugMatrix[0])\n",
    "    pivot_position,free_variable=[],[]\n",
    "    print('row_col_size',rowSize,colSize)\n",
    "    if rowSize == 0 or colSize == 0 :\n",
    "        sys.exit()\n",
    "    red=0\n",
    "    for position in range(colSize):\n",
    "        for i in range(position,rowSize):\n",
    "            print('\\n\\ni,position',i,position)\n",
    "            i=i+red\n",
    "            if AugMatrix[i][position]==0 and i+1 < rowSize:\n",
    "                nonZeroPos=checkNonZeroElement(AugMatrix[i:],position)\n",
    "                print('i,nonZeroPos',i,nonZeroPos)\n",
    "                if nonZeroPos >= 0:\n",
    "                    AugMatrix=swapRow(AugMatrix,i,i+nonZeroPos)\n",
    "                    pivot_position.append(i-red)\n",
    "                    for j in range(i+1,rowSize):\n",
    "                            print('mulFactor swap',i,j,position,AugMatrix[j][position],AugMatrix[i][position])\n",
    "                            mulFactor=AugMatrix[j][position]/AugMatrix[i][position]\n",
    "                            indexOfR1=i\n",
    "                            indexOfR2=j\n",
    "                            print(AugMatrix,i,j,mulFactor)\n",
    "                            AugMatrix=rowOperation(AugMatrix,indexOfR1,indexOfR2,mulFactor)\n",
    "                    break;\n",
    "                else:\n",
    "                    free_variable.append(i-red)\n",
    "                    red=-1\n",
    "                    break;\n",
    "            else:\n",
    "                pivot_position.append(i-red)\n",
    "                for j in range(i+1,rowSize):\n",
    "                            print('mulFactor',i,j,position,AugMatrix[j][position],AugMatrix[i][position])\n",
    "                            mulFactor=AugMatrix[j][position]/AugMatrix[i][position]\n",
    "                            indexOfR1=i\n",
    "                            indexOfR2=j\n",
    "                            print(AugMatrix,i,j,mulFactor)\n",
    "                            AugMatrix=rowOperation(AugMatrix,indexOfR1,indexOfR2,mulFactor)\n",
    "                break\n",
    "        #print('i+1,rowSize',i+1,rowSize)\n",
    "    print(pivot_position,free_variable)\n",
    "    return AugMatrix,pivot_position,free_variable\n",
    "\n",
    "            \n",
    "ref_AugMatrix,pivot_position,free_variable = ref(AugMatrix)\n",
    "ref_AugMatrix"
   ]
  },
  {
   "cell_type": "code",
   "execution_count": 342,
   "id": "11d03501",
   "metadata": {},
   "outputs": [
    {
     "data": {
      "text/plain": [
       "[1, 3, 4]"
      ]
     },
     "execution_count": 342,
     "metadata": {},
     "output_type": "execute_result"
    }
   ],
   "source": [
    "ref_AugMatrix\n",
    "pivot_position\n",
    "free_variable=[]\n",
    "for i in range(len(AugMatrix[0])-1):\n",
    "    if i not in pivot_position:\n",
    "        free_variable.append(i)\n",
    "free_variable"
   ]
  },
  {
   "cell_type": "code",
   "execution_count": 351,
   "id": "0df957c3",
   "metadata": {},
   "outputs": [],
   "source": [
    "ref_AugMatrix=[[2, 4, 6, -3, 4, 8],\n",
    " [0.0, 0.0, -15.0, 3.0, -10.0, -15.0],\n",
    " [0.0, 0.0, 0.0, -6.6, -7.333333333333333, 2.0]]"
   ]
  },
  {
   "cell_type": "code",
   "execution_count": 352,
   "id": "a9149b5c",
   "metadata": {},
   "outputs": [
    {
     "name": "stdout",
     "output_type": "stream",
     "text": [
      "0 0 2\n",
      "2 1 -15.0\n",
      "mulFactor [[1.0, 2.0, 3.0, -1.5, 2.0, 4.0], [-0.0, -0.0, 1.0, -0.2, 0.6666666666666666, 1.0], [0.0, 0.0, 0.0, -6.6, -7.333333333333333, 2.0]] 1 0 3.0\n"
     ]
    },
    {
     "data": {
      "text/plain": [
       "[[1.0, 2.0, 0.0, -0.8999999999999999, 0.0, 1.0],\n",
       " [-0.0, -0.0, 1.0, -0.2, 0.6666666666666666, 1.0],\n",
       " [0.0, 0.0, 0.0, -6.6, -7.333333333333333, 2.0]]"
      ]
     },
     "execution_count": 352,
     "metadata": {},
     "output_type": "execute_result"
    }
   ],
   "source": [
    "def scalerDivisionOnRow(matrix,indexOfRow,scalerValue):\n",
    "    newRow=[k/scalerValue for k in matrix[indexOfRow]]\n",
    "    matrix[indexOfRow]=newRow\n",
    "    return matrix\n",
    "\n",
    "    \n",
    "def checkLastNonZeroPosition(matrix,col_pos):\n",
    "    row_pos=len(matrix)\n",
    "    matrix_copy=copy.deepcopy(matrix)\n",
    "    matrix_copy.reverse()\n",
    "    for i in range(len(matrix_copy)):\n",
    "        if matrix_copy[i][col_pos] != 0:\n",
    "            return row_pos - i -1\n",
    "    return -1\n",
    "\n",
    "def rref(ref_AugMatrix):\n",
    "    rowSize=len(ref_AugMatrix)\n",
    "    colSize=len(ref_AugMatrix[0])\n",
    "    \n",
    "    for j in range(colSize-1):\n",
    "        if j not in free_variable:\n",
    "            row_position=checkLastNonZeroPosition(ref_AugMatrix,j)\n",
    "            print(j,row_position,ref_AugMatrix[row_position][j])\n",
    "            rref_AugMatrix=scalerDivisionOnRow(ref_AugMatrix,row_position,ref_AugMatrix[row_position][j])\n",
    "            fixed_row_position=row_position\n",
    "            row_position=row_position-1\n",
    "            while row_position >= 0:\n",
    "                mulFactor=rref_AugMatrix[row_position][j]\n",
    "                print('mulFactor',rref_AugMatrix,fixed_row_position,row_position,mulFactor)\n",
    "                rref_AugMatrix=rowOperation(rref_AugMatrix,fixed_row_position,row_position,mulFactor)\n",
    "                row_position-=1\n",
    "    return rref_AugMatrix\n",
    "            \n",
    "rref_AugMatrix = rref(ref_AugMatrix)         \n",
    "rref_AugMatrix"
   ]
  },
  {
   "cell_type": "code",
   "execution_count": 445,
   "id": "2517c983",
   "metadata": {},
   "outputs": [
    {
     "data": {
      "text/plain": [
       "[[1.0, 2.0, 3.0, -1.5, 2.0, 4.0],\n",
       " [0.0, 0.0, -15.0, 3.0, -10.0, -15.0],\n",
       " [0.0, 0.0, 0.0, -6.6, -7.333333333333333, 2.0]]"
      ]
     },
     "execution_count": 445,
     "metadata": {},
     "output_type": "execute_result"
    }
   ],
   "source": [
    "rref_AugMatrix\n",
    "x"
   ]
  },
  {
   "cell_type": "code",
   "execution_count": 451,
   "id": "24abb6ed",
   "metadata": {},
   "outputs": [
    {
     "name": "stdout",
     "output_type": "stream",
     "text": [
      "0 0 0\n",
      "2 1 0\n",
      "1 2 1\n",
      "2 3 2\n",
      "2 4 2\n",
      "2 5 2\n"
     ]
    },
    {
     "data": {
      "text/plain": [
       "[0, 2, 3]"
      ]
     },
     "execution_count": 451,
     "metadata": {},
     "output_type": "execute_result"
    }
   ],
   "source": [
    "height=0\n",
    "pivot_index=[]\n",
    "for j in range(len(x[0])):\n",
    "    pivot=False\n",
    "    for i in range(height,len(x)):\n",
    "        if x[i][j]!=0:\n",
    "            pivot=True\n",
    "            pivot_index.append(j)\n",
    "            #height-=1\n",
    "            break\n",
    "    if not pivot:\n",
    "        height-=1\n",
    "    print(i,j,height)\n",
    "    height+=1\n",
    "\n",
    "pivot_index"
   ]
  },
  {
   "cell_type": "code",
   "execution_count": 443,
   "id": "f6cd035c",
   "metadata": {},
   "outputs": [
    {
     "name": "stdout",
     "output_type": "stream",
     "text": [
      "{'c0': 8, 'c2': 4}\n",
      "<class 'list'> [['1.0*c0'], ['-0.0*c0'], ['0.0*c0']]\n",
      "<class 'list'> [['0.0*c2'], ['1.0*c2'], ['0.0*c2']]\n",
      "{'c0': '[0.0]*c2', 'c1': '[-6.6]*c2', 'c2': '[-7.333333333333333]*c2'}\n"
     ]
    }
   ],
   "source": [
    "def extractColFromMatrix(matrix,col_pos):\n",
    "    col_list=[]\n",
    "    for i in matrix:\n",
    "        #print(i,i[col_pos],col_pos)\n",
    "        temp_list=[]\n",
    "        temp_list.append(i[col_pos])\n",
    "        col_list.append(temp_list)\n",
    "    return col_list\n",
    "\n",
    "def scalerMultiplicationToColVector(col_matrix,scalerValue):\n",
    "    for i in range(len(col_matrix)):\n",
    "        #print(type(col_matrix[i]),type(scalerValue))\n",
    "        j=[str(k)+'*'+scalerValue for k in col_matrix[i]]\n",
    "        col_matrix[i]=j\n",
    "    return col_matrix\n",
    "\n",
    "def particularSolution(matrix,pivot_position,free_variable):\n",
    "    col_dict={}\n",
    "    sol_dict={}\n",
    "    for col_index in pivot_position:\n",
    "        col_name='c'+str(col_index)\n",
    "        col_dict[col_name]=extractColFromMatrix(matrix,col_index)\n",
    "        #Equating to b\n",
    "        sol_dict[col_name]=b[col_index]\n",
    "    print(sol_dict)\n",
    "    \n",
    "    sol_equation=[]\n",
    "    for key in col_dict:\n",
    "        col_dict[key]=scalerMultiplicationToColVector(col_dict[key],key)\n",
    "        print(type(col_dict[key]),col_dict[key])\n",
    "\n",
    "    particular_solution=[]\n",
    "    for i in range(len(matrix[0])-1):\n",
    "        temp_list=[]\n",
    "        if i in pivot_position:\n",
    "            temp_list.append(sol_dict['c'+str(i)])\n",
    "        if i in free_variable:\n",
    "            temp_list.append(0)\n",
    "        particular_solution.append(temp_list)\n",
    "    \n",
    "    return(particular_solution)\n",
    "        \n",
    "        \n",
    "particularSolution=particularSolution(rref_AugMatrix,pivot_position,free_variable) \n",
    "\n",
    "def generalSolution(matrix,particularSolution,free_variable):\n",
    "    # Getting column matrix corresponding to free Variable\n",
    "    free_variable_columns=[]\n",
    "    for i in free_variable:\n",
    "        free_variable_columns.append(extractColFromMatrix(matrix,i))\n",
    "        #print(free_variable,i,free_variable_columns)\n",
    "    \n",
    "    # Writing free variable in terms of pivot column:\n",
    "    gen_sol_dict={}\n",
    "    for i in range(len(free_variable_columns)):  \n",
    "        counter=-1\n",
    "        for j in free_variable_columns[i]:\n",
    "            counter+=1\n",
    "            if j != 0:\n",
    "                gen_sol_dict['c'+str(i)]=str(j)+'*'+'c'+str(counter)\n",
    "            counter+=1\n",
    "    print(gen_sol_dict)\n",
    "    \n",
    "generalSolution(rref_AugMatrix,particularSolution,free_variable)"
   ]
  },
  {
   "cell_type": "code",
   "execution_count": 391,
   "id": "8491cd46",
   "metadata": {},
   "outputs": [
    {
     "data": {
      "text/plain": [
       "0.0"
      ]
     },
     "execution_count": 391,
     "metadata": {},
     "output_type": "execute_result"
    }
   ],
   "source": [
    "x\n",
    "c=extractColFromMatrix(x,2)\n",
    "type(c[0])\n",
    "c[2][0]"
   ]
  },
  {
   "cell_type": "code",
   "execution_count": 393,
   "id": "3a44c891",
   "metadata": {},
   "outputs": [
    {
     "data": {
      "text/plain": [
       "[[12.0], [-60.0], [0.0]]"
      ]
     },
     "execution_count": 393,
     "metadata": {},
     "output_type": "execute_result"
    }
   ],
   "source": [
    "d=scalerMultiplicationToColVector(c,4)\n",
    "d"
   ]
  },
  {
   "cell_type": "code",
   "execution_count": 395,
   "id": "c5bbd3ea",
   "metadata": {},
   "outputs": [
    {
     "data": {
      "text/plain": [
       "[[12.0], [-60.0], [0.0]]"
      ]
     },
     "execution_count": 395,
     "metadata": {},
     "output_type": "execute_result"
    }
   ],
   "source": [
    "c"
   ]
  },
  {
   "cell_type": "code",
   "execution_count": 414,
   "id": "167f3098",
   "metadata": {},
   "outputs": [
    {
     "data": {
      "text/plain": [
       "{'1': 1, '2': 2}"
      ]
     },
     "execution_count": 414,
     "metadata": {},
     "output_type": "execute_result"
    }
   ],
   "source": [
    "d={}\n",
    "d['1']=1\n",
    "d['2']=2\n",
    "d\n"
   ]
  },
  {
   "cell_type": "code",
   "execution_count": 416,
   "id": "cb778142",
   "metadata": {},
   "outputs": [
    {
     "data": {
      "text/plain": [
       "2"
      ]
     },
     "execution_count": 416,
     "metadata": {},
     "output_type": "execute_result"
    }
   ],
   "source": [
    "d['2']"
   ]
  },
  {
   "cell_type": "code",
   "execution_count": 436,
   "id": "356b70c1",
   "metadata": {},
   "outputs": [
    {
     "data": {
      "text/plain": [
       "[1, 3, 4]"
      ]
     },
     "execution_count": 436,
     "metadata": {},
     "output_type": "execute_result"
    }
   ],
   "source": [
    "pivot_position\n",
    "free_variable"
   ]
  },
  {
   "cell_type": "code",
   "execution_count": 432,
   "id": "7ad403d9",
   "metadata": {},
   "outputs": [
    {
     "ename": "NameError",
     "evalue": "name 'col_dict' is not defined",
     "output_type": "error",
     "traceback": [
      "\u001b[1;31m---------------------------------------------------------------------------\u001b[0m",
      "\u001b[1;31mNameError\u001b[0m                                 Traceback (most recent call last)",
      "Cell \u001b[1;32mIn[432], line 1\u001b[0m\n\u001b[1;32m----> 1\u001b[0m col_dict\n",
      "\u001b[1;31mNameError\u001b[0m: name 'col_dict' is not defined"
     ]
    }
   ],
   "source": [
    "col_dict"
   ]
  },
  {
   "cell_type": "code",
   "execution_count": 193,
   "id": "0775466f",
   "metadata": {},
   "outputs": [
    {
     "data": {
      "text/plain": [
       "array([[ 1.,  0.,  0., -1.,  5.],\n",
       "       [ 0.,  1.,  0.,  0.,  5.],\n",
       "       [-0., -0.,  1.,  1., -5.]])"
      ]
     },
     "execution_count": 193,
     "metadata": {},
     "output_type": "execute_result"
    }
   ],
   "source": [
    "from numpy import *\n",
    "\n",
    "def rref(mat,precision=0,GJ=False):\n",
    "    m,n = mat.shape\n",
    "    p,t = precision, 1e-1**precision\n",
    "    A = around(mat.astype(float).copy(),decimals=p )\n",
    "    if GJ:\n",
    "        A = hstack((A,identity(n)))\n",
    "    pcol = -1 #pivot colum\n",
    "    for i in range(m):\n",
    "        pcol += 1\n",
    "        if pcol >= n : break\n",
    "        #pivot index\n",
    "        pid = argmax( abs(A[i:,pcol]) )\n",
    "        #Row exchange\n",
    "        A[i,:],A[pid+i,:] = A[pid+i,:].copy(),A[i,:].copy()\n",
    "        #pivot with given precision\n",
    "        while pcol < n and abs(A[i,pcol]) < t:\n",
    "            pcol += 1\n",
    "            if pcol >= n : break\n",
    "            #pivot index\n",
    "            pid = argmax( abs(A[i:,pcol]) )\n",
    "            #Row exchange\n",
    "            A[i,:],A[pid+i,:] = A[pid+i,:].copy(),A[i,:].copy()\n",
    "        if pcol >= n : break\n",
    "        pivot = float(A[i,pcol])\n",
    "        for j in range(m):\n",
    "            if j == i: continue\n",
    "            mul = float(A[j,pcol])/pivot\n",
    "            A[j,:] = around(A[j,:] - A[i,:]*mul,decimals=p)\n",
    "        A[i,:] /= pivot\n",
    "        A[i,:] = around(A[i,:],decimals=p)\n",
    "        \n",
    "    if GJ:\n",
    "        return A[:,:n].copy(),A[:,n:].copy()\n",
    "    else:\n",
    "        return A   "
   ]
  },
  {
   "cell_type": "code",
   "execution_count": null,
   "id": "f1d396b4",
   "metadata": {},
   "outputs": [],
   "source": []
  },
  {
   "cell_type": "code",
   "execution_count": null,
   "id": "531d74be",
   "metadata": {},
   "outputs": [],
   "source": []
  },
  {
   "cell_type": "code",
   "execution_count": null,
   "id": "7adae1da",
   "metadata": {},
   "outputs": [],
   "source": []
  },
  {
   "cell_type": "code",
   "execution_count": null,
   "id": "c1bcec65",
   "metadata": {},
   "outputs": [],
   "source": []
  },
  {
   "cell_type": "code",
   "execution_count": 468,
   "id": "729f0b77",
   "metadata": {},
   "outputs": [
    {
     "name": "stdout",
     "output_type": "stream",
     "text": [
      "Random Matrix:\n",
      "[[0.09 0.91 0.17 0.39]\n",
      " [0.32 0.2  0.91 0.94]\n",
      " [0.7  0.8  0.25 0.1 ]\n",
      " [0.08 0.23 0.18 0.44]\n",
      " [0.95 0.48 0.81 0.29]]\n",
      "\n",
      "Matrix Q:\n",
      "[[ 0.07325552  0.90097585  0.15744429 -0.35490733]\n",
      " [ 0.26046406 -0.05389957  0.8662515   0.09283469]\n",
      " [ 0.56976513  0.27108323 -0.44672943  0.33585718]\n",
      " [ 0.06511601  0.17967804  0.15864921  0.80901032]\n",
      " [ 0.77325268 -0.28207628  0.00910336 -0.31324873]]\n",
      "\n",
      "Matrix R:\n",
      "[[ 1.22857641  0.96070541  1.02997257  0.5832767 ]\n",
      " [ 0.          0.93190403 -0.02425165  0.32507952]\n",
      " [ 0.          0.          0.73930262  0.90345238]\n",
      " [ 0.          0.          0.          0.24755887]]\n",
      "\n",
      "Q * R:\n",
      "[[0.09 0.91 0.17 0.39]\n",
      " [0.32 0.2  0.91 0.94]\n",
      " [0.7  0.8  0.25 0.1 ]\n",
      " [0.08 0.23 0.18 0.44]\n",
      " [0.95 0.48 0.81 0.29]]\n"
     ]
    }
   ],
   "source": [
    "import numpy as np\n",
    "\n",
    "def qr_decomposition(matrix):\n",
    "    m, n = matrix.shape\n",
    "    Q = np.zeros((m, n))\n",
    "    R = np.zeros((n, n))\n",
    "\n",
    "    for j in range(n):\n",
    "        v = matrix[:, j].copy()\n",
    "\n",
    "        for i in range(j):\n",
    "            R[i, j] = Q[:, i].dot(matrix[:, j])\n",
    "            v -= R[i, j] * Q[:, i]\n",
    "\n",
    "        R[j, j] = np.linalg.norm(v)\n",
    "        Q[:, j] = v / R[j, j]\n",
    "\n",
    "    return Q, R\n",
    "\n",
    "# Generate a random 5x4 matrix\n",
    "random_matrix = np.random.rand(5, 4).round(2)\n",
    "\n",
    "# Perform QR decomposition\n",
    "Q, R = qr_decomposition(random_matrix)\n",
    "\n",
    "# Display the results\n",
    "print(\"Random Matrix:\")\n",
    "print(random_matrix)\n",
    "print(\"\\nMatrix Q:\")\n",
    "print(Q)\n",
    "print(\"\\nMatrix R:\")\n",
    "print(R)\n",
    "print(\"\\nQ * R:\")\n",
    "print(np.dot(Q, R))"
   ]
  },
  {
   "cell_type": "code",
   "execution_count": 460,
   "id": "af202e99",
   "metadata": {},
   "outputs": [
    {
     "ename": "UFuncTypeError",
     "evalue": "Cannot cast ufunc 'divide' output from dtype('float64') to dtype('int32') with casting rule 'same_kind'",
     "output_type": "error",
     "traceback": [
      "\u001b[1;31m---------------------------------------------------------------------------\u001b[0m",
      "\u001b[1;31mUFuncTypeError\u001b[0m                            Traceback (most recent call last)",
      "Cell \u001b[1;32mIn[460], line 27\u001b[0m\n\u001b[0;32m     24\u001b[0m matrix_to_reduce \u001b[38;5;241m=\u001b[39m np\u001b[38;5;241m.\u001b[39marray([[\u001b[38;5;241m2\u001b[39m, \u001b[38;5;241m4\u001b[39m, \u001b[38;5;241m6\u001b[39m, \u001b[38;5;241m8\u001b[39m], [\u001b[38;5;241m1\u001b[39m, \u001b[38;5;241m3\u001b[39m, \u001b[38;5;241m5\u001b[39m, \u001b[38;5;241m7\u001b[39m], [\u001b[38;5;241m0\u001b[39m, \u001b[38;5;241m1\u001b[39m, \u001b[38;5;241m2\u001b[39m, \u001b[38;5;241m3\u001b[39m]])\n\u001b[0;32m     26\u001b[0m \u001b[38;5;66;03m# Obtain the row-echelon form\u001b[39;00m\n\u001b[1;32m---> 27\u001b[0m row_echelon_result \u001b[38;5;241m=\u001b[39m row_echelon_form(matrix_to_reduce)\n\u001b[0;32m     29\u001b[0m \u001b[38;5;66;03m# Display the results\u001b[39;00m\n\u001b[0;32m     30\u001b[0m \u001b[38;5;28mprint\u001b[39m(\u001b[38;5;124m\"\u001b[39m\u001b[38;5;124mOriginal Matrix:\u001b[39m\u001b[38;5;124m\"\u001b[39m)\n",
      "Cell \u001b[1;32mIn[460], line 14\u001b[0m, in \u001b[0;36mrow_echelon_form\u001b[1;34m(matrix)\u001b[0m\n\u001b[0;32m     12\u001b[0m \u001b[38;5;66;03m# Make the pivot element 1\u001b[39;00m\n\u001b[0;32m     13\u001b[0m \u001b[38;5;28;01mif\u001b[39;00m pivot \u001b[38;5;241m!=\u001b[39m \u001b[38;5;241m0\u001b[39m:\n\u001b[1;32m---> 14\u001b[0m     A[i, :] \u001b[38;5;241m/\u001b[39m\u001b[38;5;241m=\u001b[39m pivot\n\u001b[0;32m     16\u001b[0m     \u001b[38;5;66;03m# Eliminate other elements in the current column\u001b[39;00m\n\u001b[0;32m     17\u001b[0m     \u001b[38;5;28;01mfor\u001b[39;00m j \u001b[38;5;129;01min\u001b[39;00m \u001b[38;5;28mrange\u001b[39m(i \u001b[38;5;241m+\u001b[39m \u001b[38;5;241m1\u001b[39m, m):\n",
      "\u001b[1;31mUFuncTypeError\u001b[0m: Cannot cast ufunc 'divide' output from dtype('float64') to dtype('int32') with casting rule 'same_kind'"
     ]
    }
   ],
   "source": [
    "import numpy as np\n",
    "\n",
    "def row_echelon_form(matrix):\n",
    "    m, n = matrix.shape\n",
    "    A = matrix.copy()\n",
    "\n",
    "    # Iterate through each row\n",
    "    for i in range(m):\n",
    "        # Find the pivot (nonzero) element in the current column\n",
    "        pivot = A[i, i]\n",
    "\n",
    "        # Make the pivot element 1\n",
    "        if pivot != 0:\n",
    "            A[i, :] /= pivot\n",
    "\n",
    "            # Eliminate other elements in the current column\n",
    "            for j in range(i + 1, m):\n",
    "                factor = A[j, i] / A[i, i]\n",
    "                A[j, :] -= factor * A[i, :]\n",
    "\n",
    "    return A\n",
    "\n",
    "# Example usage:\n",
    "matrix_to_reduce = np.array([[2, 4, 6, 8], [1, 3, 5, 7], [0, 1, 2, 3]])\n",
    "\n",
    "# Obtain the row-echelon form\n",
    "row_echelon_result = row_echelon_form(matrix_to_reduce)\n",
    "\n",
    "# Display the results\n",
    "print(\"Original Matrix:\")\n",
    "print(matrix_to_reduce)\n",
    "print(\"\\nRow-Echelon Form:\")\n",
    "print(row_echelon_result)"
   ]
  }
 ],
 "metadata": {
  "kernelspec": {
   "display_name": "Python 3 (ipykernel)",
   "language": "python",
   "name": "python3"
  },
  "language_info": {
   "codemirror_mode": {
    "name": "ipython",
    "version": 3
   },
   "file_extension": ".py",
   "mimetype": "text/x-python",
   "name": "python",
   "nbconvert_exporter": "python",
   "pygments_lexer": "ipython3",
   "version": "3.11.5"
  }
 },
 "nbformat": 4,
 "nbformat_minor": 5
}
