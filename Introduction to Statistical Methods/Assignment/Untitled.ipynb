{
 "cells": [
  {
   "cell_type": "code",
   "execution_count": 1,
   "id": "92b2bd9b",
   "metadata": {},
   "outputs": [],
   "source": [
    "word1=\"PROBABILITY\"\n",
    "word2=\"STATISTICS\""
   ]
  },
  {
   "cell_type": "code",
   "execution_count": 21,
   "id": "f34e42d7",
   "metadata": {},
   "outputs": [],
   "source": [
    "common_letters=set([i if i == j else '' for i in word1 for j in word2])\n",
    "common_letters.remove('')"
   ]
  },
  {
   "cell_type": "code",
   "execution_count": 22,
   "id": "275e619e",
   "metadata": {},
   "outputs": [
    {
     "data": {
      "text/plain": [
       "{'A', 'I', 'T'}"
      ]
     },
     "execution_count": 22,
     "metadata": {},
     "output_type": "execute_result"
    }
   ],
   "source": [
    "common_letters"
   ]
  },
  {
   "cell_type": "code",
   "execution_count": null,
   "id": "36a94ba2",
   "metadata": {},
   "outputs": [],
   "source": []
  }
 ],
 "metadata": {
  "kernelspec": {
   "display_name": "Python 3 (ipykernel)",
   "language": "python",
   "name": "python3"
  },
  "language_info": {
   "codemirror_mode": {
    "name": "ipython",
    "version": 3
   },
   "file_extension": ".py",
   "mimetype": "text/x-python",
   "name": "python",
   "nbconvert_exporter": "python",
   "pygments_lexer": "ipython3",
   "version": "3.11.5"
  }
 },
 "nbformat": 4,
 "nbformat_minor": 5
}
